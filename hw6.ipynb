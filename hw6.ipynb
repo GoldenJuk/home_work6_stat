{
 "cells": [
  {
   "cell_type": "markdown",
   "id": "a42f4cde",
   "metadata": {},
   "source": [
    "**Задача № 1.**\n",
    "\n",
    "Известно, что генеральная совокупность распределена нормально со средним квадратическим отклонением, равным 16.\n",
    "Найти доверительный интервал для оценки математического ожидания α с надежностью 0.95, если выборочная средняя M = 80, а объем выборки n = 256."
   ]
  },
  {
   "attachments": {},
   "cell_type": "markdown",
   "id": "44c20d4b",
   "metadata": {},
   "source": [
    "Поскольку 𝜎 генеральной совокупности известна, используем формулу для z критерия с α/2 = 0,025:"
   ]
  },
  {
   "cell_type": "code",
   "execution_count": 48,
   "id": "f3f725e6",
   "metadata": {},
   "outputs": [
    {
     "name": "stdout",
     "output_type": "stream",
     "text": [
      "Доверительный интервал для оценки математического ожидания α с надежностью 0.95,\n",
      "если выборочная средняя M = 80, а объем выборки n = 256: [78.04; 81.96]\n"
     ]
    }
   ],
   "source": [
    "sko, M, n, z = 16, 80, 256, 1.96\n",
    "\n",
    "left = M - z * sko/n**(1/2)\n",
    "right = M + z * sko/n**(1/2)\n",
    "print(f'Доверительный интервал для оценки математического ожидания α с надежностью 0.95,\\n' \n",
    "      f'если выборочная средняя M = 80, а объем выборки n = 256: [{left}; {right}]')"
   ]
  },
  {
   "cell_type": "markdown",
   "id": "1e4e291a",
   "metadata": {},
   "source": [
    "\n",
    "___\n",
    "\n",
    "\n",
    "**Задача № 2.**\n",
    "\n",
    "В результате 10 независимых измерений некоторой величины X, выполненных с одинаковой точностью, получены опытные данные:\n",
    "6.9, 6.1, 6.2, 6.8, 7.5, 6.3, 6.4, 6.9, 6.7, 6.1\n",
    "\n",
    "Предполагая, что результаты измерений подчинены нормальному закону распределения вероятностей, оценить истинное значение величины X при помощи доверительного интервала, покрывающего это значение с доверительной вероятностью 0,95."
   ]
  },
  {
   "cell_type": "code",
   "execution_count": 49,
   "id": "91df3e5e",
   "metadata": {},
   "outputs": [
    {
     "name": "stdout",
     "output_type": "stream",
     "text": [
      "Истинное значение величины X с доверительной вероятностью 0,95 находится в интервале: [6.27; 6.91]\n"
     ]
    }
   ],
   "source": [
    "import numpy as np\n",
    "from scipy import stats\n",
    "\n",
    "x = [6.9, 6.1, 6.2, 6.8, 7.5, 6.3, 6.4, 6.9, 6.7, 6.1]\n",
    "\n",
    "x_average = np.mean(x)\n",
    "D = np.var(x, ddof = 1)\n",
    "t = stats.t.ppf(0.975, (len(x)-1))\n",
    "left = round(x_average - t * np.sqrt(D / len(x)),2)\n",
    "right = round(x_average + t * np.sqrt(D / len(x)),2)\n",
    "\n",
    "print(f'Истинное значение величины X с доверительной вероятностью 0,95 находится в интервале: [{left}; {right}]')"
   ]
  },
  {
   "cell_type": "markdown",
   "id": "325ca753",
   "metadata": {},
   "source": [
    "---\n",
    "\n",
    "***Задача № 3.***\n",
    "\n",
    "Рост дочерей 175, 167, 154, 174, 178, 148, 160, 167, 169, 170\n",
    "\n",
    "Рост матерей  178, 165, 165, 173, 168, 155, 160, 164, 178, 175\n",
    "\n",
    "Используя эти данные построить 95% доверительный интервал для разности среднего роста родителей и детей."
   ]
  },
  {
   "cell_type": "code",
   "execution_count": 50,
   "id": "519bfefd",
   "metadata": {},
   "outputs": [
    {
     "name": "stdout",
     "output_type": "stream",
     "text": [
      "Таким образом, разность среднего роста родителей и детей с доверительной вероятностью 0,95 находится в интервале [-6.27; 10.07]\n"
     ]
    }
   ],
   "source": [
    "mothers = [178, 165, 165, 173, 168, 155, 160, 164, 178, 175]\n",
    "daughters = [175, 167, 154, 174, 178, 148, 160, 167, 169, 170]\n",
    "\n",
    "mothers_average = np.mean(mothers)\n",
    "daughters_average = np.mean(daughters)\n",
    "delta = mothers_average - daughters_average\n",
    "\n",
    "D1 = np.var(mothers, ddof = 1)\n",
    "D2 = np.var(daughters, ddof = 1)\n",
    "D = (D1 + D2) / 2\n",
    "SE = np. sqrt(D/len(mothers) + D/len(daughters))\n",
    "t = stats.t.ppf(0.975, (len(mothers) + len(daughters) -2))\n",
    "\n",
    "left = round(delta - t * SE,2)\n",
    "right = round(delta + t * SE,2)\n",
    "\n",
    "print(f'Таким образом, разность среднего роста родителей и детей с доверительной вероятностью 0,95 находится в интервале [{left}; {right}]')"
   ]
  },
  {
   "cell_type": "code",
   "execution_count": null,
   "id": "846c7732",
   "metadata": {},
   "outputs": [],
   "source": []
  }
 ],
 "metadata": {
  "kernelspec": {
   "display_name": "Python 3 (ipykernel)",
   "language": "python",
   "name": "python3"
  },
  "language_info": {
   "codemirror_mode": {
    "name": "ipython",
    "version": 3
   },
   "file_extension": ".py",
   "mimetype": "text/x-python",
   "name": "python",
   "nbconvert_exporter": "python",
   "pygments_lexer": "ipython3",
   "version": "3.9.13"
  }
 },
 "nbformat": 4,
 "nbformat_minor": 5
}
